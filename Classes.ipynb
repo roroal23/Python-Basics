{
 "cells": [
  {
   "cell_type": "markdown",
   "metadata": {},
   "source": [
    "# Classes\n",
    "Classes in python are made to model real-life objects, where although each individual is different, they share common charactheristics and perform similar action."
   ]
  },
  {
   "cell_type": "markdown",
   "metadata": {},
   "source": [
    "## Defining classes"
   ]
  },
  {
   "cell_type": "code",
   "execution_count": 9,
   "metadata": {},
   "outputs": [],
   "source": [
    "class Dog():\n",
    "\n",
    "    def __init__(self, name, age):\n",
    "        self.name = name\n",
    "        self.age = age\n",
    "    \n",
    "    def sit(self):\n",
    "        print(self.name + \" is now sitting\")"
   ]
  },
  {
   "cell_type": "markdown",
   "metadata": {},
   "source": [
    "## Methods and atributtes\n",
    "* The self keyword is used to refer to the object itself\n",
    "* Atributtes are variables associated to every instance of a class, they can be accessed by using the notation\n",
    " \n",
    "    **object.attribute** \n",
    "\n",
    "* Methods are functions' associated with a object, they be accessed by using the dot notation.\n",
    "    \n",
    "    **object.method()**\n",
    "\n",
    "They usually recieve **self** as its first parameter since it grants access to all the atributtes of the objects, however they can also recieve external arguments."
   ]
  },
  {
   "cell_type": "markdown",
   "metadata": {},
   "source": [
    "## __  init__()\n",
    "The __ init__() method is called a constructor, a special method that must be run everytime you create a instace of the class.\n",
    "\n",
    "It always recieves self as first argument since it must fill the atributtes with the corresponding arguments that it recieves\n"
   ]
  },
  {
   "cell_type": "markdown",
   "metadata": {},
   "source": [
    "## Creating and using instances"
   ]
  },
  {
   "cell_type": "code",
   "execution_count": 10,
   "metadata": {},
   "outputs": [],
   "source": [
    "bobby = Dog(\"Bobby\", 14)"
   ]
  },
  {
   "cell_type": "markdown",
   "metadata": {},
   "source": [
    "Attributes can be seen from outside the class by default, this means they are **public**. This will be changed in the future"
   ]
  },
  {
   "cell_type": "code",
   "execution_count": 11,
   "metadata": {},
   "outputs": [
    {
     "name": "stdout",
     "output_type": "stream",
     "text": [
      "Bobby\n",
      "14\n"
     ]
    }
   ],
   "source": [
    "print(bobby.name)\n",
    "print(bobby.age)"
   ]
  },
  {
   "cell_type": "markdown",
   "metadata": {},
   "source": [
    "Methods are also public by default"
   ]
  },
  {
   "cell_type": "code",
   "execution_count": 12,
   "metadata": {},
   "outputs": [
    {
     "name": "stdout",
     "output_type": "stream",
     "text": [
      "Bobby is now sitting\n"
     ]
    }
   ],
   "source": [
    "bobby.sit()"
   ]
  },
  {
   "cell_type": "markdown",
   "metadata": {},
   "source": [
    "## Checking instances\n",
    "To check if an object is an isntance of a certain class we can use the isinstance() function"
   ]
  },
  {
   "cell_type": "code",
   "execution_count": 14,
   "metadata": {},
   "outputs": [],
   "source": [
    "class Dog():\n",
    "\n",
    "    def __init__(self, name, age):\n",
    "        self.name = name\n",
    "        self.age = age\n",
    "\n",
    "    def greetOtherDog(self, other):\n",
    "        if isinstance(other, Dog): #Check if other is an instance of Dog\n",
    "            print(f'{self.name} has gretted {other.name}')"
   ]
  },
  {
   "cell_type": "code",
   "execution_count": null,
   "metadata": {},
   "outputs": [],
   "source": []
  }
 ],
 "metadata": {
  "kernelspec": {
   "display_name": "Python 3",
   "language": "python",
   "name": "python3"
  },
  "language_info": {
   "codemirror_mode": {
    "name": "ipython",
    "version": 3
   },
   "file_extension": ".py",
   "mimetype": "text/x-python",
   "name": "python",
   "nbconvert_exporter": "python",
   "pygments_lexer": "ipython3",
   "version": "3.11.1"
  }
 },
 "nbformat": 4,
 "nbformat_minor": 2
}
