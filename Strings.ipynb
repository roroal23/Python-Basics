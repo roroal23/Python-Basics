{
 "cells": [
  {
   "cell_type": "markdown",
   "metadata": {},
   "source": [
    "# Strings"
   ]
  },
  {
   "cell_type": "markdown",
   "metadata": {},
   "source": [
    "Strings are a data type used to store text, it can be created inserting text between quotes '' or double quotes \"\""
   ]
  },
  {
   "cell_type": "code",
   "execution_count": 2,
   "metadata": {},
   "outputs": [
    {
     "name": "stdout",
     "output_type": "stream",
     "text": [
      "True\n"
     ]
    }
   ],
   "source": [
    "name1 = 'Ada Lovelace'\n",
    "name2 = \"Ada Lovelace\"\n",
    "print(name1 == name2)"
   ]
  },
  {
   "cell_type": "markdown",
   "metadata": {},
   "source": [
    "## Accessing a string"
   ]
  },
  {
   "cell_type": "markdown",
   "metadata": {},
   "source": [
    "String can be treated as lists, which means they have similar methods.\n",
    "- You can acess each character by using its position\n",
    "- You can use the len() function to know its length"
   ]
  },
  {
   "cell_type": "code",
   "execution_count": 5,
   "metadata": {},
   "outputs": [
    {
     "name": "stdout",
     "output_type": "stream",
     "text": [
      "A\n",
      "a\n",
      "L\n",
      "v\n",
      "l\n",
      "c\n"
     ]
    }
   ],
   "source": [
    "i = 0\n",
    "while i < len(name1):\n",
    "    print(name1[i])\n",
    "    i += 2"
   ]
  },
  {
   "cell_type": "markdown",
   "metadata": {},
   "source": [
    "- You can slice a string"
   ]
  },
  {
   "cell_type": "code",
   "execution_count": 7,
   "metadata": {},
   "outputs": [
    {
     "name": "stdout",
     "output_type": "stream",
     "text": [
      "Lovelace\n"
     ]
    }
   ],
   "source": [
    "print(name1[4:])"
   ]
  },
  {
   "cell_type": "markdown",
   "metadata": {},
   "source": [
    "## Modifying a string"
   ]
  },
  {
   "cell_type": "markdown",
   "metadata": {},
   "source": [
    "Strings are inmutable which means they can't be changed directly, to change them you have to create a new one with a different value or use methods to alter them"
   ]
  },
  {
   "cell_type": "markdown",
   "metadata": {},
   "source": [
    "### str.replace(old, new) \n",
    "This method replaces ALL occurrences of the old substring in a string with the new substring"
   ]
  },
  {
   "cell_type": "code",
   "execution_count": 8,
   "metadata": {},
   "outputs": [
    {
     "name": "stdout",
     "output_type": "stream",
     "text": [
      "cat,cat,cat,cat,cat,cat,cat\n"
     ]
    }
   ],
   "source": [
    "str = \"dog,cat,dog,cat,dog,cat,dog\"\n",
    "print(str.replace(\"dog\",\"cat\"))"
   ]
  },
  {
   "cell_type": "markdown",
   "metadata": {},
   "source": [
    "### str.strip()\n",
    "It reemoves any whitespace characters at the beginning or end of the string, including spaces, tabs, and newlines. By default the strip() method removes all the whitespaces. Yet, it can be used to remove any specified sequence of characters:"
   ]
  },
  {
   "cell_type": "code",
   "execution_count": 10,
   "metadata": {},
   "outputs": [
    {
     "name": "stdout",
     "output_type": "stream",
     "text": [
      "Hello World!\n",
      "Hey Universe\n",
      "abaabab\n",
      "hello\n",
      "  _hey hey\n"
     ]
    }
   ],
   "source": [
    "greeting = '      Hello World!   '\n",
    "print(greeting.strip())          \n",
    "print('Hey Universe'.strip())      \n",
    "print('  abaabab'.strip())   \n",
    "print('__hello__'.strip('_')) \n",
    "print('  _hey hey___'.strip('_'))"
   ]
  },
  {
   "cell_type": "markdown",
   "metadata": {},
   "source": [
    "### str.lstrip() and str.rstrip()\n",
    "Similarly they can remove whitespaces or a specificied sequence of characters from the left or right of your string, respectively"
   ]
  },
  {
   "cell_type": "code",
   "execution_count": 11,
   "metadata": {},
   "outputs": [
    {
     "name": "stdout",
     "output_type": "stream",
     "text": [
      "hello__\n",
      "__hello\n"
     ]
    }
   ],
   "source": [
    "print('__hello__'.lstrip('_'))      # `hello__`\n",
    "print('__hello__'.rstrip('_'))      # `__hello`"
   ]
  },
  {
   "cell_type": "markdown",
   "metadata": {},
   "source": [
    "## Casing a string"
   ]
  },
  {
   "cell_type": "markdown",
   "metadata": {},
   "source": [
    "Useful methods to manage case of string"
   ]
  },
  {
   "cell_type": "markdown",
   "metadata": {},
   "source": [
    "### str.upper()\n",
    "This method converts all of the characters in a string to uppercase"
   ]
  },
  {
   "cell_type": "code",
   "execution_count": 12,
   "metadata": {},
   "outputs": [
    {
     "name": "stdout",
     "output_type": "stream",
     "text": [
      "HELLO WORLD\n",
      "HEY\n",
      "AGENT 007!\n"
     ]
    }
   ],
   "source": [
    "string = 'Hello World'\n",
    "print(string.upper())          \n",
    "print('Hey'.upper())           \n",
    "print('Agent 007!'.upper())"
   ]
  },
  {
   "cell_type": "markdown",
   "metadata": {},
   "source": [
    "### str.lower()\n",
    "This method converts all of the characters in a string to lowercase:"
   ]
  },
  {
   "cell_type": "code",
   "execution_count": 13,
   "metadata": {},
   "outputs": [
    {
     "name": "stdout",
     "output_type": "stream",
     "text": [
      "hello world\n",
      "hey\n",
      "agent 007!\n"
     ]
    }
   ],
   "source": [
    "string = 'Hello World'\n",
    "print(string.lower())          \n",
    "print('Hey'.lower())           \n",
    "print('Agent 007!'.lower())    "
   ]
  },
  {
   "cell_type": "markdown",
   "metadata": {},
   "source": [
    "### str.title() \n",
    "This method capitalizes the first letter of each word in a string"
   ]
  }
 ],
 "metadata": {
  "kernelspec": {
   "display_name": "Python 3",
   "language": "python",
   "name": "python3"
  },
  "language_info": {
   "codemirror_mode": {
    "name": "ipython",
    "version": 3
   },
   "file_extension": ".py",
   "mimetype": "text/x-python",
   "name": "python",
   "nbconvert_exporter": "python",
   "pygments_lexer": "ipython3",
   "version": "3.11.1"
  }
 },
 "nbformat": 4,
 "nbformat_minor": 2
}
