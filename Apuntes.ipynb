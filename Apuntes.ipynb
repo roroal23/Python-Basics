{
 "cells": [
  {
   "cell_type": "markdown",
   "metadata": {},
   "source": [
    "## Checking instances\n",
    "To check if an object is an isntance of a certain class we can use the isinstance() function"
   ]
  },
  {
   "cell_type": "code",
   "execution_count": null,
   "metadata": {},
   "outputs": [],
   "source": [
    "def greetOtherDog(self, other):\n",
    "    if isinstance(other, Dog):\n",
    "        print(f'{self.name} has gretted {other.name}')"
   ]
  },
  {
   "cell_type": "markdown",
   "metadata": {},
   "source": [
    "## Formatting String"
   ]
  },
  {
   "cell_type": "markdown",
   "metadata": {},
   "source": [
    "You can add variables into a string without having to transform them into a string everytime, you can this by using f'string{variable}string'\n",
    "\n",
    "https://www.w3schools.com/python/python_string_formatting.asp"
   ]
  },
  {
   "cell_type": "code",
   "execution_count": 1,
   "metadata": {},
   "outputs": [
    {
     "name": "stdout",
     "output_type": "stream",
     "text": [
      "5 and 6.5 and also ['a', 'b', 'c']\n"
     ]
    }
   ],
   "source": [
    "x = 5\n",
    "y = 6.5\n",
    "z = ['a','b','c']\n",
    "print(f'{x} and {y} and also {z}')"
   ]
  },
  {
   "cell_type": "markdown",
   "metadata": {},
   "source": [
    "## Python anotation"
   ]
  },
  {
   "cell_type": "markdown",
   "metadata": {},
   "source": [
    "To make reading easier you can add certain anotation to your code, such as argument type and return types. Python compiler won't check if the anotions are correct code-wise but it may result easier to understand.\n",
    "\n",
    "https://www.geeksforgeeks.org/function-annotations-python/"
   ]
  },
  {
   "cell_type": "code",
   "execution_count": 3,
   "metadata": {},
   "outputs": [],
   "source": [
    "class Dog():\n",
    "    def __init__(self, name, age):\n",
    "        self.name = name\n",
    "        self.age = age"
   ]
  },
  {
   "cell_type": "markdown",
   "metadata": {},
   "source": [
    "You can use default types such as int, float, bool, or your own types in Brackets."
   ]
  },
  {
   "cell_type": "code",
   "execution_count": 4,
   "metadata": {},
   "outputs": [],
   "source": [
    "def sum (a: int, b: int) -> int:\n",
    "    return a + b\n",
    "\n",
    "def isTrue (a: bool) -> bool:\n",
    "    return a\n",
    "\n",
    "def isDog(el: 'Dog') -> 'bool':\n",
    "    return isinstance(el, Dog)"
   ]
  }
 ],
 "metadata": {
  "kernelspec": {
   "display_name": "Python 3",
   "language": "python",
   "name": "python3"
  },
  "language_info": {
   "codemirror_mode": {
    "name": "ipython",
    "version": 3
   },
   "file_extension": ".py",
   "mimetype": "text/x-python",
   "name": "python",
   "nbconvert_exporter": "python",
   "pygments_lexer": "ipython3",
   "version": "3.11.1"
  }
 },
 "nbformat": 4,
 "nbformat_minor": 2
}
