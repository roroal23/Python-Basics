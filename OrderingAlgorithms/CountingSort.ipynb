{
 "cells": [
  {
   "cell_type": "markdown",
   "metadata": {},
   "source": [
    "# Counting sort"
   ]
  },
  {
   "cell_type": "markdown",
   "metadata": {},
   "source": [
    "Counting sort is an algorithm the works specially only when you know the range of values in the list."
   ]
  },
  {
   "cell_type": "markdown",
   "metadata": {},
   "source": [
    "The algorithm works as follows:\n",
    "1. Create a list \"counter\" that will be used to count the ocurrences of each number in the list. Its length must equal its range.\n",
    "2. Loop through the list and for each ocurrence of a number add one to its corresponding element in the counter list\n",
    "3. Create a output list\n",
    "4. Loop though the counter list and add as many ocurrences as the number indicates on the output list"
   ]
  },
  {
   "cell_type": "code",
   "execution_count": 26,
   "metadata": {},
   "outputs": [],
   "source": [
    "def countingSort (lst: list, min: int, max: int) -> list:\n",
    "    counter = [0 for i in range(0, max - min +1)]\n",
    "    for number in lst:\n",
    "        counter[number - min] += 1 #If the range doesn't start in 0, the counter[number] expression must be adapted. Ex: counter[number - 76]\n",
    "\n",
    "    output = []\n",
    "    for number, ocurrences in enumerate(counter):\n",
    "        for i in range(ocurrences):\n",
    "            output.append(number + min) #If the range doesn't start in 0, the number looped must be transformed. Ex: output.append(number + 76)\n",
    "    return output"
   ]
  },
  {
   "cell_type": "markdown",
   "metadata": {},
   "source": [
    "A dictionary can be used instead of the counter list. If you use this approach, the numbers can start from any value and no conversion will be needed"
   ]
  },
  {
   "cell_type": "code",
   "execution_count": 25,
   "metadata": {},
   "outputs": [],
   "source": [
    "def countingSortDict (lst: list, min: int, max: int) -> list:\n",
    "    counter = {number: 0 for number in range(min, max+1)}\n",
    "    for number in lst:\n",
    "        counter[number] += 1\n",
    "\n",
    "    output = []\n",
    "    for number, ocurrences in counter.items():\n",
    "        for i in range(ocurrences):\n",
    "            output.append(number)\n",
    "    return output"
   ]
  },
  {
   "cell_type": "code",
   "execution_count": 27,
   "metadata": {},
   "outputs": [
    {
     "name": "stdout",
     "output_type": "stream",
     "text": [
      "[0, 1, 1, 1, 1, 2, 2, 2, 3, 3, 4, 4, 5, 5]\n",
      "[0, 1, 1, 1, 1, 2, 2, 2, 3, 3, 4, 4, 5, 5]\n",
      "[12, 12, 13, 14]\n",
      "[12, 12, 13, 14]\n"
     ]
    }
   ],
   "source": [
    "exampleA = [1,2,1,4,4,5,2,3,1,5,2,1,0,3]\n",
    "exampleB = [12,13,12,14]\n",
    "print(countingSort(exampleA,0,5))\n",
    "print(countingSortDict(exampleA,0,5))\n",
    "print(countingSort(exampleB,12,14))\n",
    "print(countingSortDict(exampleB,12,14))"
   ]
  }
 ],
 "metadata": {
  "kernelspec": {
   "display_name": "Python 3",
   "language": "python",
   "name": "python3"
  },
  "language_info": {
   "codemirror_mode": {
    "name": "ipython",
    "version": 3
   },
   "file_extension": ".py",
   "mimetype": "text/x-python",
   "name": "python",
   "nbconvert_exporter": "python",
   "pygments_lexer": "ipython3",
   "version": "3.11.1"
  }
 },
 "nbformat": 4,
 "nbformat_minor": 2
}
