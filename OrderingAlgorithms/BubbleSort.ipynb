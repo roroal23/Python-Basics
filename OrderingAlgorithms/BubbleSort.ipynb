{
 "cells": [
  {
   "cell_type": "markdown",
   "metadata": {},
   "source": [
    "# Bubble Sort"
   ]
  },
  {
   "cell_type": "markdown",
   "metadata": {},
   "source": [
    "Bubble sort is the easisest ordering algorithm to understand."
   ]
  },
  {
   "cell_type": "markdown",
   "metadata": {},
   "source": [
    "It goes through a list multiple times, comparing every pair of adyacent numbers, if the order is not correct the algorithm swaps their position and continues to the next pair. The algorithm passes though the list until all the numbers are ordered.\n",
    "Its time complexity in the worst case scenario is O(n^2)"
   ]
  },
  {
   "cell_type": "markdown",
   "metadata": {},
   "source": [
    "## History"
   ]
  },
  {
   "cell_type": "markdown",
   "metadata": {},
   "source": [
    "### Raw algorithm"
   ]
  },
  {
   "cell_type": "code",
   "execution_count": 16,
   "metadata": {},
   "outputs": [],
   "source": [
    "def bubbleSort (lst):\n",
    "    i = 0\n",
    "    while i < len(lst):\n",
    "        x = 1\n",
    "        while x < len(lst):\n",
    "            if lst[x-1] > lst[x]:\n",
    "                lst[x-1], lst[x] = lst[x], lst[x-1]\n",
    "            x += 1\n",
    "        i += 1"
   ]
  },
  {
   "cell_type": "markdown",
   "metadata": {},
   "source": [
    "EXAMPLE:\n",
    "[4, 2, 6, 3, 9]\n",
    "\n",
    "1st pass:\n",
    "1. [4, 2, 6, 3, 9] 4 > 2, so they swap\n",
    "2. [2, 4, 6, 3, 9] 4 < 6, so they don't swap\n",
    "3. [2, 4, 6, 3, 9] 6 > 3, so they swap\n",
    "4. [2, 4, 3, 6, 9] 6 < 9, so they don't swap\n",
    "5. [2, 4, 3, 6, 9]\n",
    "\n",
    "2nd pass:\n",
    "1. [2, 4, 6, 3, 9] 2 < 4, so they don't swap\n",
    "2. [2, 4, 6, 3, 9] 4 < 6, so they don't swap\n",
    "3. [2, 4, 6, 3, 9] 6 > 3, so they swap\n",
    "4. [2, 4, 3, 6, 9] 6 < 9, so they don't swap\n",
    "5. [2, 4, 3, 6, 9]\n",
    "At this point the list is ordered, but the algoritm doesn't know that so it will continue until it reaches the (n - 1) pass\n",
    "\n",
    "3rd pass:\n",
    "1. [2, 4, 6, 3, 9] 2 < 4, so they don't swap\n",
    "2. [2, 4, 6, 3, 9] 4 < 6, so they don't swap\n",
    "3. [2, 4, 3, 6, 9] 3 > 6, so they don't swap\n",
    "4. [2, 4, 3, 6, 9] 6 < 9, so they don't swap\n",
    "5. [2, 4, 3, 6, 9]\n",
    "\n",
    "4th pass:\n",
    "1. [2, 4, 6, 3, 9] 2 < 4, so they don't swap\n",
    "2. [2, 4, 6, 3, 9] 4 < 6, so they don't swap\n",
    "3. [2, 4, 3, 6, 9] 3 > 6, so they don't swap\n",
    "4. [2, 4, 3, 6, 9] 6 < 9, so they don't swap\n",
    "5. [2, 4, 3, 6, 9]\n",
    "\n",
    "5th pass:\n",
    "1. [2, 4, 6, 3, 9] 2 < 4, so they don't swap\n",
    "2. [2, 4, 6, 3, 9] 4 < 6, so they don't swap\n",
    "3. [2, 4, 3, 6, 9] 3 > 6, so they don't swap\n",
    "4. [2, 4, 3, 6, 9] 6 < 9, so they don't swap\n",
    "5. [2, 4, 3, 6, 9]\n",
    "\n",
    "The algorith finishes"
   ]
  },
  {
   "cell_type": "code",
   "execution_count": 15,
   "metadata": {},
   "outputs": [
    {
     "name": "stdout",
     "output_type": "stream",
     "text": [
      "-----Pass number 0 --------\n",
      "[4, 5, 3, 2, 1]. 5 < 4 so they swap\n",
      "[4, 3, 5, 2, 1]. 5 < 3 so they swap\n",
      "[4, 3, 2, 5, 1]. 5 < 2 so they swap\n",
      "[4, 3, 2, 1, 5]. 5 < 1 so they swap\n",
      "[4, 3, 2, 1, 5]\n",
      "-----Pass number 1 --------\n",
      "[3, 4, 2, 1, 5]. 4 < 3 so they swap\n",
      "[3, 2, 4, 1, 5]. 4 < 2 so they swap\n",
      "[3, 2, 1, 4, 5]. 4 < 1 so they swap\n",
      "[3, 2, 1, 4, 5]. 4 < 5 so they don't swap\n",
      "[3, 2, 1, 4, 5]\n",
      "-----Pass number 2 --------\n",
      "[2, 3, 1, 4, 5]. 3 < 2 so they swap\n",
      "[2, 1, 3, 4, 5]. 3 < 1 so they swap\n",
      "[2, 1, 3, 4, 5]. 3 < 4 so they don't swap\n",
      "[2, 1, 3, 4, 5]. 4 < 5 so they don't swap\n",
      "[2, 1, 3, 4, 5]\n",
      "-----Pass number 3 --------\n",
      "[1, 2, 3, 4, 5]. 2 < 1 so they swap\n",
      "[1, 2, 3, 4, 5]. 2 < 3 so they don't swap\n",
      "[1, 2, 3, 4, 5]. 3 < 4 so they don't swap\n",
      "[1, 2, 3, 4, 5]. 4 < 5 so they don't swap\n",
      "[1, 2, 3, 4, 5]\n",
      "The algorithm ends\n"
     ]
    }
   ],
   "source": [
    "example = [4, 2, 6, 3, 9]\n",
    "exampleB = [5,4,3,2,1]\n",
    "exampleC = [5,2,4,1,3]\n",
    "\n",
    "def bubbleSortWithFlags (lst):\n",
    "    i = 0\n",
    "    while i < len(lst):\n",
    "        print(f\"-----Pass number {i} --------\")\n",
    "        x = 1\n",
    "        while x < len(lst):\n",
    "            if lst[x-1] > lst[x]:\n",
    "                lst[x-1], lst[x] = lst[x], lst[x-1]\n",
    "                print(f\"{lst}. {lst[x]} < {lst[x-1]} so they swap\")\n",
    "            else:\n",
    "                print(f\"{lst}. {lst[x-1]} < {lst[x]} so they don't swap\")\n",
    "            x += 1\n",
    "        print(lst)\n",
    "        i += 1\n",
    "    print(\"The algorithm ends\")\n",
    "\n",
    "bubbleSortWithFlags(exampleB)"
   ]
  },
  {
   "cell_type": "markdown",
   "metadata": {},
   "source": [
    "### 1st optimization: Truncator\n",
    "We can see that as the algorithm executes, the lasts position of the list are ordered no matter what. So the first optimization to the algorithm ensures that these last position are not verified. Example: After 1st pass, the last element is not checked. After 2nd pass, the 2nd last element is not checked...\n",
    "\n",
    "By doing some the number of passes of the algorithm is not reduced, but the length of each pass is."
   ]
  },
  {
   "cell_type": "code",
   "execution_count": 14,
   "metadata": {},
   "outputs": [],
   "source": [
    "def bubbleSortTruncator (lst):\n",
    "    i = 0\n",
    "    while i < len(lst):\n",
    "        x = 1\n",
    "        while x < len(lst) - i: #Change\n",
    "            if lst[x-1] > lst[x]:\n",
    "                lst[x-1], lst[x] = lst[x], lst[x-1]\n",
    "            x += 1\n",
    "        i += 1"
   ]
  },
  {
   "cell_type": "markdown",
   "metadata": {},
   "source": [
    "EXAMPLE: FIRST OPTIMIZATION\n",
    "[4, 2, 6, 3, 9]\n",
    "\n",
    "1st pass:\n",
    "1. [4, 2, 6, 3, 9]\\ 4 > 2, so they swap\n",
    "2. [2, 4, 6, 3, 9]\\ 4 < 6, so they don't swap\n",
    "3. [2, 4, 6, 3, 9]\\ 6 > 3, so they swap\n",
    "4. [2, 4, 3, 6, 9]\\ 6 < 9, so they don't swap\n",
    "5. [2, 4, 3, 6, 9]\n",
    "\n",
    "The biggest number has been set in it's position, so the algorithm won't check the last position anymore.\n",
    "\n",
    "2nd pass:\n",
    "1. [2, 4, 6, 3,\\ 9] 2 < 4, so they don't swap\n",
    "2. [2, 4, 6, 3,\\ 9] 4 < 6, so they don't swap\n",
    "3. [2, 4, 6, 3,\\ 9] 6 > 3, so they swap\n",
    "4. [2, 4, 3, 6,\\ 9]\n",
    "\n",
    "The 2nd biggest number has been set in it's position, so the algorithm won't check the last two positions anymore.\n",
    "\n",
    "3rd pass:\n",
    "1. [2, 4, 6,\\ 3, 9] 2 < 4, so they don't swap\n",
    "2. [2, 4, 6,\\ 3, 9] 4 < 6, so they don't swap\n",
    "3. [2, 4, 6,\\ 3, 9]\n",
    "\n",
    "The 3rd biggest number has been set in it's position, so the algorithm won't check the last three positions anymore.\n",
    "1. [2, 4,\\ 6, 3, 9] 2 < 4, so they don't swap\n",
    "2. [2, 4,\\ 6, 3, 9]\n",
    "\n",
    "The algorithm finishes\n"
   ]
  },
  {
   "cell_type": "code",
   "execution_count": 13,
   "metadata": {},
   "outputs": [
    {
     "name": "stdout",
     "output_type": "stream",
     "text": [
      "-----Pass number 0 --------\n",
      "[2, 4, 6, 3, 9]. 4 < 2 so they swap\n",
      "[2, 4, 6, 3, 9]. 4 < 6 so they don't swap\n",
      "[2, 4, 3, 6, 9]. 6 < 3 so they swap\n",
      "[2, 4, 3, 6, 9]. 6 < 9 so they don't swap\n",
      "[2, 4, 3, 6, 9]\n",
      "The 1º biggest number is already in place. The algorithm won't check for it\n",
      "-----Pass number 1 --------\n",
      "[2, 4, 3, 6, 9]. 2 < 4 so they don't swap\n",
      "[2, 3, 4, 6, 9]. 4 < 3 so they swap\n",
      "[2, 3, 4, 6, 9]. 4 < 6 so they don't swap\n",
      "[2, 3, 4, 6, 9]\n",
      "The 2º biggest number is already in place. The algorithm won't check for it\n",
      "-----Pass number 2 --------\n",
      "[2, 3, 4, 6, 9]. 2 < 3 so they don't swap\n",
      "[2, 3, 4, 6, 9]. 3 < 4 so they don't swap\n",
      "[2, 3, 4, 6, 9]\n",
      "The 3º biggest number is already in place. The algorithm won't check for it\n",
      "-----Pass number 3 --------\n",
      "[2, 3, 4, 6, 9]. 2 < 3 so they don't swap\n",
      "[2, 3, 4, 6, 9]\n",
      "The 4º biggest number is already in place. The algorithm won't check for it\n",
      "The algorithm ends\n"
     ]
    }
   ],
   "source": [
    "example = [4, 2, 6, 3, 9]\n",
    "exampleB = [5,4,3,2,1]\n",
    "exampleC = [5,2,4,1,3]\n",
    "\n",
    "def bubbleSortTruncatorWithFlags (lst):\n",
    "    i = 0\n",
    "    while i < len(lst):\n",
    "        print(f\"-----Pass number {i} --------\")\n",
    "        x = 1\n",
    "        while x < len(lst) - i:\n",
    "            if lst[x-1] > lst[x]:\n",
    "                lst[x-1], lst[x] = lst[x], lst[x-1]\n",
    "                print(f\"{lst}. {lst[x]} < {lst[x-1]} so they swap\")\n",
    "            else:\n",
    "                print(f\"{lst}. {lst[x-1]} < {lst[x]} so they don't swap\")\n",
    "            x += 1\n",
    "        print(lst)\n",
    "        print(f\"The {i+1}º biggest number is already in place. The algorithm won't check for it\")\n",
    "        i += 1\n",
    "    print(\"The algorithm ends\")\n",
    "\n",
    "bubbleSortTruncatorWithFlags(example)"
   ]
  },
  {
   "cell_type": "markdown",
   "metadata": {},
   "source": [
    "### 2nd optimization: Flag\n",
    "We can also define a flag that can detect if two element are switched. In the event that for a whole pass the flag is not activated, that means that the list is already ordered, which will end the algorithm.\n",
    "\n",
    "The number of passes is reduced, but the length of each pass is not reduced"
   ]
  },
  {
   "cell_type": "code",
   "execution_count": null,
   "metadata": {},
   "outputs": [],
   "source": [
    "def bubbleSortFlag(lst):\n",
    "    i = 0\n",
    "    while i < len(lst):\n",
    "        x = 1\n",
    "        flag = False\n",
    "        while x < len(lst):\n",
    "            if lst[x-1] > lst[x]:\n",
    "                lst[x-1], lst[x] = lst[x], lst[x-1]\n",
    "                flag = True\n",
    "            x += 1\n",
    "        i += 1\n",
    "        if not flag: #Can be changed for \"while i < len(lst) and not flag\" in the initial loop:\n",
    "            break"
   ]
  },
  {
   "cell_type": "markdown",
   "metadata": {},
   "source": [
    "EXAMPLE:\n",
    "[4, 2, 6, 3, 9]\n",
    "\n",
    "1st pass:\n",
    "1. [4, 2, 6, 3, 9] 4 > 2, so they swap. The flag activates. Flag: True\n",
    "2. [2, 4, 6, 3, 9] 4 < 6, so they don't swap. Flag: True\n",
    "3. [2, 4, 6, 3, 9] 6 > 3, so they swap. Flag: True\n",
    "4. [2, 4, 3, 6, 9] 6 < 9, so they don't swap. Flag: True\n",
    "5. [2, 4, 3, 6, 9]\n",
    "The flag is activated, so it continues sorting.\n",
    "\n",
    "2nd pass:\n",
    "1. [2, 4, 6, 3, 9] 2 < 4, so they don't swap. Flag: False\n",
    "2. [2, 4, 6, 3, 9] 4 < 6, so they don't swap. Flag: False\n",
    "3. [2, 4, 6, 3, 9] 6 > 3, so they swap. The flag activates. Flag: True\n",
    "4. [2, 4, 3, 6, 9] 6 < 9, so they don't swap. Flag: True\n",
    "5. [2, 4, 3, 6, 9]\n",
    "At this point the list is ordered, but the algoritm doesn't know that so it will continue until the flag is not activated for a whole pass.\n",
    "\n",
    "3rd pass:\n",
    "1. [2, 4, 6, 3, 9] 2 < 4, so they don't swap. Flag: False\n",
    "2. [2, 4, 6, 3, 9] 4 < 6, so they don't swap. Flag: False\n",
    "3. [2, 4, 3, 6, 9] 3 > 6, so they don't swap. Flag: False\n",
    "4. [2, 4, 3, 6, 9] 6 < 9, so they don't swap. Flag: False\n",
    "5. [2, 4, 3, 6, 9]\n",
    "\n",
    "The flag is not activated, so the algoritm ends."
   ]
  },
  {
   "cell_type": "code",
   "execution_count": 29,
   "metadata": {},
   "outputs": [
    {
     "name": "stdout",
     "output_type": "stream",
     "text": [
      "[4, 2, 6, 3, 9]\n",
      "-----Pass number 0 --------\n",
      "[2, 4, 6, 3, 9]. 4 < 2 so they swap. The flag activates. Flag = True\n",
      "[2, 4, 6, 3, 9]. 4 < 6 so they don't swap. Flag = True\n",
      "[2, 4, 3, 6, 9]. 6 < 3 so they swap. Flag = True\n",
      "[2, 4, 3, 6, 9]. 6 < 9 so they don't swap. Flag = True\n",
      "[2, 4, 3, 6, 9]\n",
      "-----Pass number 1 --------\n",
      "[2, 4, 3, 6, 9]. 2 < 4 so they don't swap. Flag = False\n",
      "[2, 3, 4, 6, 9]. 4 < 3 so they swap. The flag activates. Flag = True\n",
      "[2, 3, 4, 6, 9]. 4 < 6 so they don't swap. Flag = True\n",
      "[2, 3, 4, 6, 9]. 6 < 9 so they don't swap. Flag = True\n",
      "[2, 3, 4, 6, 9]\n",
      "-----Pass number 2 --------\n",
      "[2, 3, 4, 6, 9]. 2 < 3 so they don't swap. Flag = False\n",
      "[2, 3, 4, 6, 9]. 3 < 4 so they don't swap. Flag = False\n",
      "[2, 3, 4, 6, 9]. 4 < 6 so they don't swap. Flag = False\n",
      "[2, 3, 4, 6, 9]. 6 < 9 so they don't swap. Flag = False\n",
      "[2, 3, 4, 6, 9]\n",
      "False\n",
      "The algorithm ends\n"
     ]
    }
   ],
   "source": [
    "example = [4, 2, 6, 3, 9]\n",
    "exampleB = [5,4,3,2,1]\n",
    "exampleC = [5,2,4,1,3]\n",
    "\n",
    "def bubbleSortFlagWithFlags(lst):\n",
    "    i = 0\n",
    "    print(lst)\n",
    "    while i < len(lst):\n",
    "        print(f\"-----Pass number {i} --------\")\n",
    "        x = 1\n",
    "        flag = False\n",
    "        while x < len(lst):\n",
    "            if lst[x-1] > lst[x]:\n",
    "                lst[x-1], lst[x] = lst[x], lst[x-1]\n",
    "                if not flag:\n",
    "                    flag = True\n",
    "                    print(f\"{lst}. {lst[x]} < {lst[x-1]} so they swap. The flag activates. Flag = {flag}\")\n",
    "                else:\n",
    "                    print(f\"{lst}. {lst[x]} < {lst[x-1]} so they swap. Flag = {flag}\")\n",
    "            else:\n",
    "                print(f\"{lst}. {lst[x-1]} < {lst[x]} so they don't swap. Flag = {flag}\")\n",
    "            x += 1\n",
    "        print(lst)\n",
    "        i += 1\n",
    "        if not flag:\n",
    "            print(flag)\n",
    "            break\n",
    "    print(\"The algorithm ends\")\n",
    "\n",
    "bubbleSortFlagWithFlags(example)"
   ]
  },
  {
   "cell_type": "markdown",
   "metadata": {},
   "source": [
    "## Algoritm"
   ]
  },
  {
   "cell_type": "markdown",
   "metadata": {},
   "source": [
    "The algorithm that include both optimizations is:"
   ]
  },
  {
   "cell_type": "code",
   "execution_count": 33,
   "metadata": {},
   "outputs": [],
   "source": [
    "def bubbleSortOptimized(lst):\n",
    "    i = 0\n",
    "    while i < len(lst):\n",
    "        x = 1\n",
    "        flag = False\n",
    "        while x < len(lst) - i:\n",
    "            if lst[x-1] > lst[x]:\n",
    "                lst[x-1], lst[x] = lst[x], lst[x-1]\n",
    "                flag = True\n",
    "            x += 1\n",
    "        i += 1\n",
    "        if not flag:\n",
    "            break"
   ]
  },
  {
   "cell_type": "markdown",
   "metadata": {},
   "source": [
    "### With prints"
   ]
  },
  {
   "cell_type": "code",
   "execution_count": 31,
   "metadata": {},
   "outputs": [
    {
     "name": "stdout",
     "output_type": "stream",
     "text": [
      "[4, 2, 6, 3, 9]\n",
      "-----Pass number 0 --------\n",
      "[2, 4, 6, 3, 9]. 4 < 2 so they swap. The flag activates. Flag = True\n",
      "[2, 4, 6, 3, 9]. 4 < 6 so they don't swap. Flag = True\n",
      "[2, 4, 3, 6, 9]. 6 < 3 so they swap. Flag = True\n",
      "[2, 4, 3, 6, 9]. 6 < 9 so they don't swap. Flag = True\n",
      "[2, 4, 3, 6, 9]\n",
      "The 1º biggest number is already in place. The algorithm won't check for it\n",
      "-----Pass number 1 --------\n",
      "[2, 4, 3, 6, 9]. 2 < 4 so they don't swap. Flag = False\n",
      "[2, 3, 4, 6, 9]. 4 < 3 so they swap. The flag activates. Flag = True\n",
      "[2, 3, 4, 6, 9]. 4 < 6 so they don't swap. Flag = True\n",
      "[2, 3, 4, 6, 9]\n",
      "The 2º biggest number is already in place. The algorithm won't check for it\n",
      "-----Pass number 2 --------\n",
      "[2, 3, 4, 6, 9]. 2 < 3 so they don't swap. Flag = False\n",
      "[2, 3, 4, 6, 9]. 3 < 4 so they don't swap. Flag = False\n",
      "[2, 3, 4, 6, 9]\n",
      "The 3º biggest number is already in place. The algorithm won't check for it\n",
      "False\n",
      "The algorithm ends\n"
     ]
    }
   ],
   "source": [
    "example = [4, 2, 6, 3, 9]\n",
    "exampleB = [5,4,3,2,1]\n",
    "exampleC = [5,2,4,1,3]\n",
    "\n",
    "def bubbleSortOptimizedWithFlags(lst):\n",
    "    i = 0\n",
    "    print(lst)\n",
    "    while i < len(lst):\n",
    "        print(f\"-----Pass number {i} --------\")\n",
    "        x = 1\n",
    "        flag = False\n",
    "        while x < len(lst) - i:\n",
    "            if lst[x-1] > lst[x]:\n",
    "                lst[x-1], lst[x] = lst[x], lst[x-1]\n",
    "                if not flag:\n",
    "                    flag = True\n",
    "                    print(f\"{lst}. {lst[x]} < {lst[x-1]} so they swap. The flag activates. Flag = {flag}\")\n",
    "                else:\n",
    "                    print(f\"{lst}. {lst[x]} < {lst[x-1]} so they swap. Flag = {flag}\")\n",
    "            else:\n",
    "                print(f\"{lst}. {lst[x-1]} < {lst[x]} so they don't swap. Flag = {flag}\")\n",
    "            x += 1\n",
    "        print(lst)\n",
    "        print(f\"The {i+1}º biggest number is already in place. The algorithm won't check for it\")\n",
    "        i += 1\n",
    "        if not flag:\n",
    "            print(flag)\n",
    "            break\n",
    "    print(\"The algorithm ends\")\n",
    "\n",
    "bubbleSortOptimizedWithFlags(example)"
   ]
  }
 ],
 "metadata": {
  "kernelspec": {
   "display_name": "Python 3",
   "language": "python",
   "name": "python3"
  },
  "language_info": {
   "codemirror_mode": {
    "name": "ipython",
    "version": 3
   },
   "file_extension": ".py",
   "mimetype": "text/x-python",
   "name": "python",
   "nbconvert_exporter": "python",
   "pygments_lexer": "ipython3",
   "version": "3.11.1"
  }
 },
 "nbformat": 4,
 "nbformat_minor": 2
}
