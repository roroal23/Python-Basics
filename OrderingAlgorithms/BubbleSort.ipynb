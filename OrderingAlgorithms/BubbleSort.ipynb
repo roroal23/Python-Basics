{
 "cells": [
  {
   "cell_type": "markdown",
   "metadata": {},
   "source": [
    "# Bubble Sort"
   ]
  },
  {
   "cell_type": "markdown",
   "metadata": {},
   "source": [
    "Bubble sort is the easisest ordering algorithm to understand."
   ]
  },
  {
   "cell_type": "markdown",
   "metadata": {},
   "source": [
    "It goes through a list multiple times, comparing every pair of adyacent numbers, if the order is not correct the algorithm swaps their position and continues to the next pair. The algorithm passes though the list until all the numbers are ordered.\n",
    "Its time complexity in the worst case scenario is O(n^2)"
   ]
  },
  {
   "cell_type": "markdown",
   "metadata": {},
   "source": [
    "EXAMPLE:\n",
    "[4, 2, 6, 3, 9]\n",
    "1st pass:\n",
    "[4, 2, 6, 3, 9]\\ 4 > 2, so they swap\n",
    "[2, 4, 6, 3, 9]\\ 4 < 6, so they don't swap\n",
    "[2, 4, 6, 3, 9]\\ 6 > 3, so they swap\n",
    "[2, 4, 3, 6, 9]\\ 6 < 9, so they don't swap\n",
    "[2, 4, 3, 6, 9]\n",
    "The biggest number has benn put in position, so the algorithm won't check the last position anymore.\n",
    "2nd pass:\n",
    "[2, 4, 6, 3,\\ 9] 2 < 4, so they don't swap\n",
    "[2, 4, 6, 3,\\ 9] 4 < 6, so they don't swap\n",
    "[2, 4, 6, 3,\\ 9] 6 > 3, so they swap\n",
    "[2, 4, 3, 6,\\ 9]\n",
    "The 2nd biggest number has benn put in position, so the algorithm won't check the last two positions anymore.\n",
    "3rd pass:\n",
    "[2, 4, 6,\\ 3, 9] 2 < 4, so they don't swap\n",
    "[2, 4, 6,\\ 3, 9] 4 < 6, so they don't swap\n"
   ]
  },
  {
   "cell_type": "code",
   "execution_count": null,
   "metadata": {},
   "outputs": [],
   "source": []
  }
 ],
 "metadata": {
  "language_info": {
   "name": "python"
  }
 },
 "nbformat": 4,
 "nbformat_minor": 2
}
