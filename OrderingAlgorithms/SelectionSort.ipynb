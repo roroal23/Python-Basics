{
 "cells": [
  {
   "cell_type": "markdown",
   "metadata": {},
   "source": [
    "# Selection sort"
   ]
  },
  {
   "cell_type": "markdown",
   "metadata": {},
   "source": [
    "The algorithm work with two sections, the sorted portion and the unsorted portion. The algoritm works by going through the unsorted portion on the list and finding the smallest element, after which it swaps positions with the first element of the unsorted part. This process is repeated for the remaining unsorted portion until the entire list is sorted."
   ]
  },
  {
   "cell_type": "markdown",
   "metadata": {},
   "source": [
    "https://www.geeksforgeeks.org/selection-sort-algorithm-2/ "
   ]
  },
  {
   "cell_type": "code",
   "execution_count": 17,
   "metadata": {},
   "outputs": [
    {
     "name": "stdout",
     "output_type": "stream",
     "text": [
      "[1, 2, 3, 4, 5, 6, 7, 8, 9]\n"
     ]
    }
   ],
   "source": [
    "example = [9,8,7,6,5,4,3,2,1]\n",
    "exampleB = [7,3,6,4,5,3,1,2]\n",
    "\n",
    "def selectionSort(lst):\n",
    "    i = 0\n",
    "    while i < len(lst) - 1:\n",
    "        min = i\n",
    "        x = i + 1\n",
    "        while x < len(lst):\n",
    "            if lst[x] < lst[min]:\n",
    "                min = x\n",
    "            x += 1\n",
    "        lst[i], lst[min] = lst[min], lst[i]\n",
    "        i += 1\n",
    "\n",
    "selectionSort(example)\n",
    "print(example)"
   ]
  },
  {
   "cell_type": "code",
   "execution_count": 16,
   "metadata": {},
   "outputs": [
    {
     "name": "stdout",
     "output_type": "stream",
     "text": [
      "---------- Pass 0 ----------\n",
      "[10, 9, 8, 7, 6, 5, 4, 3, 2, 1]. Min: 10. Comparing with: 9\n",
      "[10, 9, 8, 7, 6, 5, 4, 3, 2, 1]. Min: 9. Comparing with: 8\n",
      "[10, 9, 8, 7, 6, 5, 4, 3, 2, 1]. Min: 8. Comparing with: 7\n",
      "[10, 9, 8, 7, 6, 5, 4, 3, 2, 1]. Min: 7. Comparing with: 6\n",
      "[10, 9, 8, 7, 6, 5, 4, 3, 2, 1]. Min: 6. Comparing with: 5\n",
      "[10, 9, 8, 7, 6, 5, 4, 3, 2, 1]. Min: 5. Comparing with: 4\n",
      "[10, 9, 8, 7, 6, 5, 4, 3, 2, 1]. Min: 4. Comparing with: 3\n",
      "[10, 9, 8, 7, 6, 5, 4, 3, 2, 1]. Min: 3. Comparing with: 2\n",
      "[10, 9, 8, 7, 6, 5, 4, 3, 2, 1]. Min: 2. Comparing with: 1\n",
      "Changing positions: 10 with 1.\n",
      "ORDERED:[1] UNORDERED:[9, 8, 7, 6, 5, 4, 3, 2, 10] \n",
      "---------- Pass 1 ----------\n",
      "[1, 9, 8, 7, 6, 5, 4, 3, 2, 10]. Min: 9. Comparing with: 8\n",
      "[1, 9, 8, 7, 6, 5, 4, 3, 2, 10]. Min: 8. Comparing with: 7\n",
      "[1, 9, 8, 7, 6, 5, 4, 3, 2, 10]. Min: 7. Comparing with: 6\n",
      "[1, 9, 8, 7, 6, 5, 4, 3, 2, 10]. Min: 6. Comparing with: 5\n",
      "[1, 9, 8, 7, 6, 5, 4, 3, 2, 10]. Min: 5. Comparing with: 4\n",
      "[1, 9, 8, 7, 6, 5, 4, 3, 2, 10]. Min: 4. Comparing with: 3\n",
      "[1, 9, 8, 7, 6, 5, 4, 3, 2, 10]. Min: 3. Comparing with: 2\n",
      "[1, 9, 8, 7, 6, 5, 4, 3, 2, 10]. Min: 2. Comparing with: 10\n",
      "Changing positions: 9 with 2.\n",
      "ORDERED:[1, 2] UNORDERED:[8, 7, 6, 5, 4, 3, 9, 10] \n",
      "---------- Pass 2 ----------\n",
      "[1, 2, 8, 7, 6, 5, 4, 3, 9, 10]. Min: 8. Comparing with: 7\n",
      "[1, 2, 8, 7, 6, 5, 4, 3, 9, 10]. Min: 7. Comparing with: 6\n",
      "[1, 2, 8, 7, 6, 5, 4, 3, 9, 10]. Min: 6. Comparing with: 5\n",
      "[1, 2, 8, 7, 6, 5, 4, 3, 9, 10]. Min: 5. Comparing with: 4\n",
      "[1, 2, 8, 7, 6, 5, 4, 3, 9, 10]. Min: 4. Comparing with: 3\n",
      "[1, 2, 8, 7, 6, 5, 4, 3, 9, 10]. Min: 3. Comparing with: 9\n",
      "[1, 2, 8, 7, 6, 5, 4, 3, 9, 10]. Min: 3. Comparing with: 10\n",
      "Changing positions: 8 with 3.\n",
      "ORDERED:[1, 2, 3] UNORDERED:[7, 6, 5, 4, 8, 9, 10] \n",
      "---------- Pass 3 ----------\n",
      "[1, 2, 3, 7, 6, 5, 4, 8, 9, 10]. Min: 7. Comparing with: 6\n",
      "[1, 2, 3, 7, 6, 5, 4, 8, 9, 10]. Min: 6. Comparing with: 5\n",
      "[1, 2, 3, 7, 6, 5, 4, 8, 9, 10]. Min: 5. Comparing with: 4\n",
      "[1, 2, 3, 7, 6, 5, 4, 8, 9, 10]. Min: 4. Comparing with: 8\n",
      "[1, 2, 3, 7, 6, 5, 4, 8, 9, 10]. Min: 4. Comparing with: 9\n",
      "[1, 2, 3, 7, 6, 5, 4, 8, 9, 10]. Min: 4. Comparing with: 10\n",
      "Changing positions: 7 with 4.\n",
      "ORDERED:[1, 2, 3, 4] UNORDERED:[6, 5, 7, 8, 9, 10] \n",
      "---------- Pass 4 ----------\n",
      "[1, 2, 3, 4, 6, 5, 7, 8, 9, 10]. Min: 6. Comparing with: 5\n",
      "[1, 2, 3, 4, 6, 5, 7, 8, 9, 10]. Min: 5. Comparing with: 7\n",
      "[1, 2, 3, 4, 6, 5, 7, 8, 9, 10]. Min: 5. Comparing with: 8\n",
      "[1, 2, 3, 4, 6, 5, 7, 8, 9, 10]. Min: 5. Comparing with: 9\n",
      "[1, 2, 3, 4, 6, 5, 7, 8, 9, 10]. Min: 5. Comparing with: 10\n",
      "Changing positions: 6 with 5.\n",
      "ORDERED:[1, 2, 3, 4, 5] UNORDERED:[6, 7, 8, 9, 10] \n",
      "---------- Pass 5 ----------\n",
      "[1, 2, 3, 4, 5, 6, 7, 8, 9, 10]. Min: 6. Comparing with: 7\n",
      "[1, 2, 3, 4, 5, 6, 7, 8, 9, 10]. Min: 6. Comparing with: 8\n",
      "[1, 2, 3, 4, 5, 6, 7, 8, 9, 10]. Min: 6. Comparing with: 9\n",
      "[1, 2, 3, 4, 5, 6, 7, 8, 9, 10]. Min: 6. Comparing with: 10\n",
      "Changing positions: 6 with 6.\n",
      "ORDERED:[1, 2, 3, 4, 5, 6] UNORDERED:[7, 8, 9, 10] \n",
      "---------- Pass 6 ----------\n",
      "[1, 2, 3, 4, 5, 6, 7, 8, 9, 10]. Min: 7. Comparing with: 8\n",
      "[1, 2, 3, 4, 5, 6, 7, 8, 9, 10]. Min: 7. Comparing with: 9\n",
      "[1, 2, 3, 4, 5, 6, 7, 8, 9, 10]. Min: 7. Comparing with: 10\n",
      "Changing positions: 7 with 7.\n",
      "ORDERED:[1, 2, 3, 4, 5, 6, 7] UNORDERED:[8, 9, 10] \n",
      "---------- Pass 7 ----------\n",
      "[1, 2, 3, 4, 5, 6, 7, 8, 9, 10]. Min: 8. Comparing with: 9\n",
      "[1, 2, 3, 4, 5, 6, 7, 8, 9, 10]. Min: 8. Comparing with: 10\n",
      "Changing positions: 8 with 8.\n",
      "ORDERED:[1, 2, 3, 4, 5, 6, 7, 8] UNORDERED:[9, 10] \n",
      "---------- Pass 8 ----------\n",
      "[1, 2, 3, 4, 5, 6, 7, 8, 9, 10]. Min: 9. Comparing with: 10\n",
      "Changing positions: 9 with 9.\n",
      "ORDERED:[1, 2, 3, 4, 5, 6, 7, 8, 9] UNORDERED:[10] \n"
     ]
    }
   ],
   "source": [
    "example = [10,9,8,7,6,5,4,3,2,1]\n",
    "def selectionSortWithFlags(lst):\n",
    "    i = 0\n",
    "    while i < len(lst) - 1:\n",
    "        print(f\"---------- Pass {i} ----------\")\n",
    "        min = i\n",
    "        x = i + 1\n",
    "        while x < len(lst):\n",
    "            print(f\"{lst}. Min: {lst[min]}. Comparing with: {lst[x]}\")\n",
    "            if lst[x] < lst[min]:\n",
    "                min = x\n",
    "            x += 1\n",
    "        print(f\"Changing positions: {lst[i]} with {lst[min]}.\")\n",
    "        lst[i], lst[min] = lst[min], lst[i]\n",
    "        i += 1\n",
    "        print(f\"ORDERED:{lst[:i]} UNORDERED:{lst[i:]} \")\n",
    "\n",
    "selectionSortWithFlags(example)"
   ]
  }
 ],
 "metadata": {
  "kernelspec": {
   "display_name": "Python 3",
   "language": "python",
   "name": "python3"
  },
  "language_info": {
   "codemirror_mode": {
    "name": "ipython",
    "version": 3
   },
   "file_extension": ".py",
   "mimetype": "text/x-python",
   "name": "python",
   "nbconvert_exporter": "python",
   "pygments_lexer": "ipython3",
   "version": "3.11.1"
  }
 },
 "nbformat": 4,
 "nbformat_minor": 2
}
