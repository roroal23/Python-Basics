{
 "cells": [
  {
   "cell_type": "markdown",
   "metadata": {},
   "source": [
    "# Functions\n",
    "Functions are the pillar of functional programming, if you use them your code will be reusable, cleaner and easier to understand"
   ]
  },
  {
   "cell_type": "markdown",
   "metadata": {},
   "source": [
    "## Defining a function"
   ]
  },
  {
   "cell_type": "markdown",
   "metadata": {},
   "source": [
    "Function are defined using the keyword **def** and indicating its name and the parameters it needs.\n",
    "\n",
    "Function use arguments to perform operations, they can return values or not. In Python this isn't specified in the syntaxis"
   ]
  },
  {
   "cell_type": "code",
   "execution_count": 1,
   "metadata": {},
   "outputs": [],
   "source": [
    "def return_func (number):\n",
    "    return number\n",
    "def non_return_func (number):\n",
    "    print(number)"
   ]
  },
  {
   "cell_type": "markdown",
   "metadata": {},
   "source": [
    "They do the same thing but they are used in different situations"
   ]
  },
  {
   "cell_type": "code",
   "execution_count": 4,
   "metadata": {},
   "outputs": [
    {
     "name": "stdout",
     "output_type": "stream",
     "text": [
      "5\n",
      "5\n"
     ]
    }
   ],
   "source": [
    "print(return_func(5)) #We must print the returned value\n",
    "non_return_func(5) #We don't have to print"
   ]
  },
  {
   "cell_type": "markdown",
   "metadata": {},
   "source": [
    "## Matching parameters and arguments"
   ]
  },
  {
   "cell_type": "markdown",
   "metadata": {},
   "source": [
    "### Positional arguments\n",
    "You add the arguments in the same order which are provided in the function."
   ]
  },
  {
   "cell_type": "code",
   "execution_count": 5,
   "metadata": {},
   "outputs": [
    {
     "name": "stdout",
     "output_type": "stream",
     "text": [
      "My name is Pedro, I am 25 and my favourite color is red. I currently work as a Scientist\n"
     ]
    }
   ],
   "source": [
    "def person(name, age, color, job):\n",
    "    return f'My name is {name}, I am {age} and my favourite color is {color}. I currently work as a {job}'\n",
    "print(person(\"Pedro\", 25, \"red\", \"Scientist\"))"
   ]
  },
  {
   "cell_type": "markdown",
   "metadata": {},
   "source": [
    "If you don't get the right order, the function won't work correctly"
   ]
  },
  {
   "cell_type": "code",
   "execution_count": 6,
   "metadata": {},
   "outputs": [
    {
     "name": "stdout",
     "output_type": "stream",
     "text": [
      "My name is 25, I am Pedro and my favourite color is Scientist. I currently work as a red\n"
     ]
    }
   ],
   "source": [
    "print(person(25, \"Pedro\", \"Scientist\" , \"red\"))"
   ]
  },
  {
   "cell_type": "markdown",
   "metadata": {},
   "source": [
    "### Keyword arguments\n",
    "You can also match the parameters by saying their respective keyword (variable name) and providing their value. The order doesn't matter here"
   ]
  },
  {
   "cell_type": "code",
   "execution_count": 7,
   "metadata": {},
   "outputs": [
    {
     "name": "stdout",
     "output_type": "stream",
     "text": [
      "My name is Pedro, I am 25 and my favourite color is red. I currently work as a Scientist\n"
     ]
    }
   ],
   "source": [
    "print(person(age =25, name =\"Pedro\", job = \"Scientist\" , color = \"red\"))"
   ]
  },
  {
   "cell_type": "code",
   "execution_count": 9,
   "metadata": {},
   "outputs": [
    {
     "name": "stdout",
     "output_type": "stream",
     "text": [
      "My name is Pedro, I am 25 and my favourite color is red. I currently work as a Scientist\n"
     ]
    }
   ],
   "source": [
    "print(person(\"Pedro\", 25, job =\"Scientist\", color =\"red\"))"
   ]
  },
  {
   "cell_type": "markdown",
   "metadata": {},
   "source": [
    "Both can be used at the same time"
   ]
  },
  {
   "cell_type": "markdown",
   "metadata": {},
   "source": [
    "## Default values"
   ]
  },
  {
   "cell_type": "markdown",
   "metadata": {},
   "source": [
    "You can indicate default values for certain parameters. If the user doesn't provide an argument they will be used as arguments instead"
   ]
  },
  {
   "cell_type": "code",
   "execution_count": 8,
   "metadata": {},
   "outputs": [
    {
     "name": "stdout",
     "output_type": "stream",
     "text": [
      "10\n",
      "16\n"
     ]
    }
   ],
   "source": [
    "def perimeter(length, sides = 4):\n",
    "    return length * sides\n",
    "print(perimeter(2,5))\n",
    "print(perimeter(4))"
   ]
  },
  {
   "cell_type": "markdown",
   "metadata": {},
   "source": [
    "## Return values"
   ]
  },
  {
   "cell_type": "markdown",
   "metadata": {},
   "source": [
    "As mentioned before you can return values or don't return any. You can also return multiples values"
   ]
  },
  {
   "cell_type": "code",
   "execution_count": 14,
   "metadata": {},
   "outputs": [
    {
     "name": "stdout",
     "output_type": "stream",
     "text": [
      "Perimiter:75.36, area:452.15999999999997\n"
     ]
    }
   ],
   "source": [
    "def circle_per_and_area (r):\n",
    "    return 2*3.14*r, 3.14*r*r\n",
    "perimeter, area = circle_per_and_area(12)\n",
    "print(f'Perimiter:{perimeter}, area:{area}')"
   ]
  },
  {
   "cell_type": "markdown",
   "metadata": {},
   "source": [
    "Actually the function returns a tuple, which can unpacked into n variables"
   ]
  },
  {
   "cell_type": "code",
   "execution_count": 15,
   "metadata": {},
   "outputs": [
    {
     "name": "stdout",
     "output_type": "stream",
     "text": [
      "<class 'tuple'>\n"
     ]
    }
   ],
   "source": [
    "print(type(circle_per_and_area(12)))"
   ]
  },
  {
   "cell_type": "markdown",
   "metadata": {},
   "source": [
    "## Variable-length arguments"
   ]
  },
  {
   "cell_type": "markdown",
   "metadata": {},
   "source": [
    "Sometimes, we may not know the number of arguments that our function will receive. In such cases, we can use variable-length arguments"
   ]
  },
  {
   "cell_type": "markdown",
   "metadata": {},
   "source": [
    "### *args"
   ]
  },
  {
   "cell_type": "markdown",
   "metadata": {},
   "source": [
    "*args is a special syntax in Python that allows us to pass a variable number of positional arguments to a function"
   ]
  },
  {
   "cell_type": "code",
   "execution_count": 16,
   "metadata": {},
   "outputs": [
    {
     "name": "stdout",
     "output_type": "stream",
     "text": [
      "7\n",
      "3\n"
     ]
    }
   ],
   "source": [
    "def n_sum (*args):\n",
    "    res = 0\n",
    "    for number in args:\n",
    "        res += number\n",
    "    return number\n",
    "print(n_sum(1,2,3,4,5,6,7))\n",
    "print(n_sum(1,2,3))"
   ]
  },
  {
   "cell_type": "markdown",
   "metadata": {},
   "source": [
    "The arguments provided will be packed in a tuple, which can be used in a loop. Unpacking the tuple would be a bad idea since we don't know the size of the tuple"
   ]
  },
  {
   "cell_type": "markdown",
   "metadata": {},
   "source": [
    "### *kwargs\n",
    "**kwargs is a special syntax in Python that allows us to pass a variable number of keyword arguments to a function."
   ]
  },
  {
   "cell_type": "code",
   "execution_count": 19,
   "metadata": {},
   "outputs": [
    {
     "name": "stdout",
     "output_type": "stream",
     "text": [
      "a is 1, b is 2, c is 3, d is 4\n"
     ]
    }
   ],
   "source": [
    "def printer(**kwargs):\n",
    "    txt = ''\n",
    "    for key, value in kwargs.items():\n",
    "        txt += f'{key} is {value}, '\n",
    "    return txt[:-2]\n",
    "print(printer(a=1,b=2,c=3,d=4))"
   ]
  },
  {
   "cell_type": "markdown",
   "metadata": {},
   "source": [
    "The arguments provided will be packed in a dictionary, so you can loop it using the items() method"
   ]
  }
 ],
 "metadata": {
  "kernelspec": {
   "display_name": "Python 3",
   "language": "python",
   "name": "python3"
  },
  "language_info": {
   "codemirror_mode": {
    "name": "ipython",
    "version": 3
   },
   "file_extension": ".py",
   "mimetype": "text/x-python",
   "name": "python",
   "nbconvert_exporter": "python",
   "pygments_lexer": "ipython3",
   "version": "3.11.1"
  }
 },
 "nbformat": 4,
 "nbformat_minor": 2
}
