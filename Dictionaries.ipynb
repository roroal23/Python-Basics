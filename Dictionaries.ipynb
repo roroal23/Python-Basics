{
 "cells": [
  {
   "cell_type": "markdown",
   "metadata": {},
   "source": [
    "# Dictionaries\n",
    "A dictionary is a collection of key-value pairs, this means that each element of a dictionary is a key, and has a value associated with it.\n",
    "\n",
    "Each key-value pair is called item.\n",
    "Keys can be of any type, but they are usually strings or numbers, values can also be of any type including list, tuples or dictionaries."
   ]
  },
  {
   "cell_type": "markdown",
   "metadata": {},
   "source": [
    "- Mutable. Elements can be changed at any time\n",
    "- Variable length.\n",
    "- Multi-element. Elements of different type can be stored in the same dictionary as keys or as values"
   ]
  },
  {
   "cell_type": "markdown",
   "metadata": {},
   "source": [
    "## Dictionary definition and adding elements"
   ]
  },
  {
   "cell_type": "markdown",
   "metadata": {},
   "source": [
    "To create dictionaries with curly braces {}, similar to sets, but in this case we separate keys and values with colons :"
   ]
  },
  {
   "cell_type": "code",
   "execution_count": 3,
   "metadata": {},
   "outputs": [],
   "source": [
    "grades = {'Pedro': 5, 'Marcos' : 7, 'Helen': 10}"
   ]
  },
  {
   "cell_type": "markdown",
   "metadata": {},
   "source": [
    "To add elements you must write as follows"
   ]
  },
  {
   "cell_type": "code",
   "execution_count": 4,
   "metadata": {},
   "outputs": [
    {
     "name": "stdout",
     "output_type": "stream",
     "text": [
      "{'Pedro': 5, 'Marcos': 7, 'Helen': 10, 'Adrian': 9}\n"
     ]
    }
   ],
   "source": [
    "grades['Adrian'] = 9\n",
    "print(grades)"
   ]
  },
  {
   "cell_type": "markdown",
   "metadata": {},
   "source": [
    "Which means you can create an empty dictionary and add elements later"
   ]
  },
  {
   "cell_type": "code",
   "execution_count": 5,
   "metadata": {},
   "outputs": [
    {
     "name": "stdout",
     "output_type": "stream",
     "text": [
      "{'Pedro': False, 'Marcos': True, 'Helen': True, 'Adrian': True}\n"
     ]
    }
   ],
   "source": [
    "approved = {}\n",
    "approved['Pedro'] = False\n",
    "approved['Marcos'] = True\n",
    "approved['Helen'] = True\n",
    "approved['Adrian'] = True\n",
    "print(approved)"
   ]
  },
  {
   "cell_type": "markdown",
   "metadata": {},
   "source": [
    "## Accessing a dictionary"
   ]
  },
  {
   "cell_type": "markdown",
   "metadata": {},
   "source": [
    "You can acess a dictionary value by using the [] notation with its respective key."
   ]
  },
  {
   "cell_type": "code",
   "execution_count": 6,
   "metadata": {},
   "outputs": [
    {
     "name": "stdout",
     "output_type": "stream",
     "text": [
      "False\n"
     ]
    }
   ],
   "source": [
    "print(approved['Pedro'])"
   ]
  },
  {
   "cell_type": "markdown",
   "metadata": {},
   "source": [
    "However if the key is not found in the value it will raise a KeyError"
   ]
  },
  {
   "cell_type": "code",
   "execution_count": 7,
   "metadata": {},
   "outputs": [
    {
     "ename": "KeyError",
     "evalue": "'Alfonso'",
     "output_type": "error",
     "traceback": [
      "\u001b[1;31m---------------------------------------------------------------------------\u001b[0m",
      "\u001b[1;31mKeyError\u001b[0m                                  Traceback (most recent call last)",
      "Cell \u001b[1;32mIn[7], line 1\u001b[0m\n\u001b[1;32m----> 1\u001b[0m \u001b[38;5;28mprint\u001b[39m(\u001b[43mapproved\u001b[49m\u001b[43m[\u001b[49m\u001b[38;5;124;43m'\u001b[39;49m\u001b[38;5;124;43mAlfonso\u001b[39;49m\u001b[38;5;124;43m'\u001b[39;49m\u001b[43m]\u001b[49m)\n",
      "\u001b[1;31mKeyError\u001b[0m: 'Alfonso'"
     ]
    }
   ],
   "source": [
    "print(approved['Alfonso'])"
   ]
  },
  {
   "cell_type": "markdown",
   "metadata": {},
   "source": [
    "### dict.get(k)\n",
    "The get() function is also used to access values by their keys, however, if the key is not found it returns None. You can also provide a second argument in the function so it return a default value if it is not found"
   ]
  },
  {
   "cell_type": "code",
   "execution_count": 9,
   "metadata": {},
   "outputs": [
    {
     "name": "stdout",
     "output_type": "stream",
     "text": [
      "None\n",
      "Not found\n"
     ]
    }
   ],
   "source": [
    "print(approved.get('Alfonso'))\n",
    "print(approved.get('Alfonso','Not found'))"
   ]
  },
  {
   "cell_type": "markdown",
   "metadata": {},
   "source": [
    "## Modifying elements in a dictionary"
   ]
  },
  {
   "cell_type": "markdown",
   "metadata": {},
   "source": [
    "You can modify elements with the usual brackets notation for the key and setting a new value"
   ]
  },
  {
   "cell_type": "code",
   "execution_count": 11,
   "metadata": {},
   "outputs": [
    {
     "name": "stdout",
     "output_type": "stream",
     "text": [
      "{'Pedro': False, 'Marcos': 12, 'Helen': True, 'Adrian': True}\n"
     ]
    }
   ],
   "source": [
    "approved['Marcos'] = 12\n",
    "print(approved)"
   ]
  },
  {
   "cell_type": "markdown",
   "metadata": {},
   "source": [
    "## Removing items from a dictionary"
   ]
  },
  {
   "cell_type": "markdown",
   "metadata": {},
   "source": [
    "### del dict[k]\n",
    "The del keyword, as in lists, can be used to remove an item (key and value) from a dictionary "
   ]
  },
  {
   "cell_type": "code",
   "execution_count": 12,
   "metadata": {},
   "outputs": [
    {
     "name": "stdout",
     "output_type": "stream",
     "text": [
      "{'Pedro': 5, 'Marcos': 7, 'Helen': 10}\n"
     ]
    }
   ],
   "source": [
    "grades = {'Pedro': 5, 'Marcos' : 7, 'Helen': 10, 'Alfonso' : 3}\n",
    "del grades['Alfonso']\n",
    "print(grades)"
   ]
  },
  {
   "cell_type": "markdown",
   "metadata": {},
   "source": [
    "### dict.pop(k)\n",
    "The pop() function deletes the item and returns its value, so it can be used"
   ]
  },
  {
   "cell_type": "code",
   "execution_count": 13,
   "metadata": {},
   "outputs": [
    {
     "name": "stdout",
     "output_type": "stream",
     "text": [
      "3\n",
      "{'Pedro': 5, 'Marcos': 7, 'Helen': 10}\n"
     ]
    }
   ],
   "source": [
    "grades = {'Pedro': 5, 'Marcos' : 7, 'Helen': 10, 'Alfonso' : 3}\n",
    "print(grades.pop('Alfonso'))\n",
    "print(grades)"
   ]
  },
  {
   "cell_type": "markdown",
   "metadata": {},
   "source": [
    "## Looping through a dictionary"
   ]
  },
  {
   "cell_type": "markdown",
   "metadata": {},
   "source": [
    "There are 3 methods that are very useful when iterating over dictionaries:\n",
    "1. keys() — Returns all the keys in the dictionary \n",
    "2. values() — Returns all the values in the dictionary \n",
    "3. items() — Returns a list of (key, value) tuples"
   ]
  },
  {
   "cell_type": "markdown",
   "metadata": {},
   "source": [
    "### Iterating through keys"
   ]
  },
  {
   "cell_type": "code",
   "execution_count": 17,
   "metadata": {},
   "outputs": [
    {
     "name": "stdout",
     "output_type": "stream",
     "text": [
      "Johns grade is 7\n",
      "Annas grade is 9\n",
      "Bobs grade is 8\n",
      "Davids grade is 3\n",
      "Simons grade is 4\n"
     ]
    }
   ],
   "source": [
    "grades = {'John': 7, 'Anna': 9, 'Bob': 8, 'David': 3, 'Simon': 4}\n",
    "for name in grades.keys():\n",
    "    print(f'{name}s grade is {grades[name]}')"
   ]
  },
  {
   "cell_type": "markdown",
   "metadata": {},
   "source": [
    "### Iterating through values"
   ]
  },
  {
   "cell_type": "code",
   "execution_count": 18,
   "metadata": {},
   "outputs": [
    {
     "name": "stdout",
     "output_type": "stream",
     "text": [
      "[7, 9, 8, 3, 4]\n"
     ]
    }
   ],
   "source": [
    "grades = {'John': 7, 'Anna': 9, 'Bob': 8, 'David': 3, 'Simon': 4}\n",
    "numeric_grades = []\n",
    "for grade in grades.values():\n",
    "    numeric_grades.append(grade)\n",
    "print(numeric_grades)"
   ]
  },
  {
   "cell_type": "markdown",
   "metadata": {},
   "source": [
    "### Iterating through items\n",
    "Since an item is a tuple, we can assign each element of the tuple a variable, it is common to name them simply key and value"
   ]
  },
  {
   "cell_type": "code",
   "execution_count": 20,
   "metadata": {},
   "outputs": [
    {
     "name": "stdout",
     "output_type": "stream",
     "text": [
      "Johns grade is 7\n",
      "Annas grade is 9\n",
      "Bobs grade is 8\n",
      "Davids grade is 3\n",
      "Simons grade is 4\n"
     ]
    }
   ],
   "source": [
    "grades = {'John': 7, 'Anna': 9, 'Bob': 8, 'David': 3, 'Simon': 4}\n",
    "for name, grade in grades.items():\n",
    "    print(f'{name}s grade is {grade}')"
   ]
  },
  {
   "cell_type": "markdown",
   "metadata": {},
   "source": [
    "## Checking if a value is present in a dictionary"
   ]
  },
  {
   "cell_type": "markdown",
   "metadata": {},
   "source": [
    "Just like in sets, you can use the keyword function to check if a key is not a dictionary, you can do it directly with the dict or with dict.keys()"
   ]
  },
  {
   "cell_type": "code",
   "execution_count": 21,
   "metadata": {},
   "outputs": [],
   "source": [
    "grades = {'John': 7, 'Anna': 9, 'Bob': 8, 'David': 3, 'Simon': 4}\n",
    "names = ['John', 'Anna', 'Bob', 'Pedro', 'Simon']"
   ]
  },
  {
   "cell_type": "code",
   "execution_count": 23,
   "metadata": {},
   "outputs": [
    {
     "name": "stdout",
     "output_type": "stream",
     "text": [
      "John has 7\n",
      "Anna has 9\n",
      "Bob has 8\n",
      "Simon has 4\n"
     ]
    }
   ],
   "source": [
    "for name in names:\n",
    "    if name in grades:\n",
    "        print(f'{name} has {grades[name]}')"
   ]
  },
  {
   "cell_type": "code",
   "execution_count": 24,
   "metadata": {},
   "outputs": [
    {
     "name": "stdout",
     "output_type": "stream",
     "text": [
      "John has 7\n",
      "Anna has 9\n",
      "Bob has 8\n",
      "Simon has 4\n"
     ]
    }
   ],
   "source": [
    "for name in names:\n",
    "    if name in grades.keys():\n",
    "        print(f'{name} has {grades[name]}')"
   ]
  },
  {
   "cell_type": "markdown",
   "metadata": {},
   "source": [
    "## Dictionary comprehension"
   ]
  },
  {
   "cell_type": "markdown",
   "metadata": {},
   "source": [
    "Dictionaries also follow the list comprehension rules"
   ]
  },
  {
   "cell_type": "code",
   "execution_count": 25,
   "metadata": {},
   "outputs": [
    {
     "name": "stdout",
     "output_type": "stream",
     "text": [
      "{0: 0, 2: 4, 4: 16, 6: 36, 8: 64}\n"
     ]
    }
   ],
   "source": [
    "squared_even_numbers = {x: x**2 for x in range(10) if x % 2 == 0}\n",
    "print(squared_even_numbers)"
   ]
  }
 ],
 "metadata": {
  "kernelspec": {
   "display_name": "Python 3",
   "language": "python",
   "name": "python3"
  },
  "language_info": {
   "codemirror_mode": {
    "name": "ipython",
    "version": 3
   },
   "file_extension": ".py",
   "mimetype": "text/x-python",
   "name": "python",
   "nbconvert_exporter": "python",
   "pygments_lexer": "ipython3",
   "version": "3.11.1"
  }
 },
 "nbformat": 4,
 "nbformat_minor": 2
}
