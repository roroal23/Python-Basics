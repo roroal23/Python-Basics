{
 "cells": [
  {
   "cell_type": "markdown",
   "metadata": {},
   "source": [
    "# Sets"
   ]
  },
  {
   "cell_type": "markdown",
   "metadata": {},
   "source": [
    "- Unmutable. Elements can be changed\n",
    "- Unordered. Elements don't have an order\n",
    "- Variable length. You can store as many elements as you want\n",
    "- Multi-element. Elements of different type can be stored in the same set\n",
    "- Unique. Each element of the set must appear ONCE\n",
    "https://martinxpn.medium.com/sets-in-python-24-100-days-of-python-9359c965189d "
   ]
  },
  {
   "cell_type": "markdown",
   "metadata": {},
   "source": [
    "## Set definition and adding elements"
   ]
  },
  {
   "cell_type": "markdown",
   "metadata": {},
   "source": [
    "\n",
    "A set can defined directly by using curly braces {} or by using the built-in set() function. After its definition elements can be added using the add() function.\n"
   ]
  },
  {
   "cell_type": "code",
   "execution_count": 4,
   "metadata": {},
   "outputs": [
    {
     "name": "stdout",
     "output_type": "stream",
     "text": [
      "{1, 2, 3}\n",
      "{1, 2, 3}\n"
     ]
    }
   ],
   "source": [
    "setA = {1,2,3}\n",
    "setB = set()\n",
    "setB.add(1)\n",
    "setB.add(2)\n",
    "setB.add(3)\n",
    "\n",
    "print(setA)\n",
    "print(setB)"
   ]
  },
  {
   "cell_type": "markdown",
   "metadata": {},
   "source": [
    "### Element repetition"
   ]
  },
  {
   "cell_type": "markdown",
   "metadata": {},
   "source": [
    "Elements can't be added twice, so if you try it, it won't appear in the set"
   ]
  },
  {
   "cell_type": "code",
   "execution_count": 5,
   "metadata": {},
   "outputs": [
    {
     "name": "stdout",
     "output_type": "stream",
     "text": [
      "{1, 2, 3}\n"
     ]
    }
   ],
   "source": [
    "setA = {1,2,3}\n",
    "setA.add(2)\n",
    "print(setA)"
   ]
  },
  {
   "cell_type": "markdown",
   "metadata": {},
   "source": [
    "This feature can be useful when you want to remove duplicates from a list. You can transform it into a set and turn it back into a set"
   ]
  },
  {
   "cell_type": "code",
   "execution_count": 6,
   "metadata": {},
   "outputs": [
    {
     "name": "stdout",
     "output_type": "stream",
     "text": [
      "[1, 2, 3, 4, 5, 6, 7]\n"
     ]
    }
   ],
   "source": [
    "lst = [1,3,1,3,2,5,6,7,1,3,5,4]\n",
    "lst = set(lst)\n",
    "lst = list(lst)\n",
    "print(lst)"
   ]
  },
  {
   "cell_type": "markdown",
   "metadata": {},
   "source": [
    "## Deleting elements from a set"
   ]
  },
  {
   "cell_type": "markdown",
   "metadata": {},
   "source": [
    "### discard(x)\n",
    "The discard() function will delete the element from the set if it is present, if the element is not found nothing will happen"
   ]
  },
  {
   "cell_type": "code",
   "execution_count": 8,
   "metadata": {},
   "outputs": [
    {
     "name": "stdout",
     "output_type": "stream",
     "text": [
      "{1, 2, 3}\n"
     ]
    }
   ],
   "source": [
    "setC = {1, 2, 3, 4}\n",
    "setC.discard(4)\n",
    "setC.discard(5)\n",
    "print(setC)"
   ]
  },
  {
   "cell_type": "markdown",
   "metadata": {},
   "source": [
    "### remove(x)\n",
    "The remove() function will delete the element from the set if it is present, if the element is not found it will raise a KeyError exception"
   ]
  },
  {
   "cell_type": "code",
   "execution_count": 9,
   "metadata": {},
   "outputs": [
    {
     "name": "stdout",
     "output_type": "stream",
     "text": [
      "{1, 2, 3}\n"
     ]
    },
    {
     "ename": "KeyError",
     "evalue": "5",
     "output_type": "error",
     "traceback": [
      "\u001b[1;31m---------------------------------------------------------------------------\u001b[0m",
      "\u001b[1;31mKeyError\u001b[0m                                  Traceback (most recent call last)",
      "Cell \u001b[1;32mIn[9], line 4\u001b[0m\n\u001b[0;32m      2\u001b[0m setC\u001b[38;5;241m.\u001b[39mremove(\u001b[38;5;241m4\u001b[39m)\n\u001b[0;32m      3\u001b[0m \u001b[38;5;28mprint\u001b[39m(setC)\n\u001b[1;32m----> 4\u001b[0m \u001b[43msetC\u001b[49m\u001b[38;5;241;43m.\u001b[39;49m\u001b[43mremove\u001b[49m\u001b[43m(\u001b[49m\u001b[38;5;241;43m5\u001b[39;49m\u001b[43m)\u001b[49m\n\u001b[0;32m      5\u001b[0m \u001b[38;5;28mprint\u001b[39m(setC)\n",
      "\u001b[1;31mKeyError\u001b[0m: 5"
     ]
    }
   ],
   "source": [
    "setC = {1, 2, 3, 4}\n",
    "setC.remove(4)\n",
    "print(setC)\n",
    "setC.remove(5)\n",
    "print(setC)"
   ]
  },
  {
   "cell_type": "markdown",
   "metadata": {},
   "source": [
    "## Checking if a element is present in a set"
   ]
  },
  {
   "cell_type": "markdown",
   "metadata": {},
   "source": [
    "It is common to use the **in** keyword to check if a element is present in a set."
   ]
  },
  {
   "cell_type": "code",
   "execution_count": 10,
   "metadata": {},
   "outputs": [
    {
     "name": "stdout",
     "output_type": "stream",
     "text": [
      "0 in set: False\n",
      "1 in set: True\n",
      "2 in set: True\n",
      "3 in set: True\n",
      "4 in set: False\n",
      "5 in set: True\n"
     ]
    }
   ],
   "source": [
    "setC = {1, 2, 3, 5}\n",
    "for i in range(6):\n",
    "    value = i in setC\n",
    "    print(f'{i} in set: {value}')"
   ]
  },
  {
   "cell_type": "markdown",
   "metadata": {},
   "source": [
    "## Operations between sets"
   ]
  },
  {
   "cell_type": "markdown",
   "metadata": {},
   "source": [
    "You can operate sets by doing their union, interseccion and difference."
   ]
  },
  {
   "cell_type": "code",
   "execution_count": 11,
   "metadata": {},
   "outputs": [
    {
     "name": "stdout",
     "output_type": "stream",
     "text": [
      "{1, 2, 3, 4, 5, 6, 7, 8, 9, 10, 11, 12, 13, 14}\n",
      "{1, 3, 5, 7}\n",
      "{8, 2, 4, 6}\n"
     ]
    }
   ],
   "source": [
    "setA = {1,2,3,4,5,6,7,8}\n",
    "setB = {9,10,11,12,13,14}\n",
    "setC = {1,3,5,7,9}\n",
    "\n",
    "print(setA.union(setB))\n",
    "print(setA.intersection(setC))\n",
    "print(setA.difference(setC))"
   ]
  },
  {
   "cell_type": "markdown",
   "metadata": {},
   "source": [
    "It is also possible to use the & operator to get the intersection of two sets:"
   ]
  },
  {
   "cell_type": "code",
   "execution_count": 12,
   "metadata": {},
   "outputs": [
    {
     "name": "stdout",
     "output_type": "stream",
     "text": [
      "{1, 3, 5, 7}\n"
     ]
    }
   ],
   "source": [
    "print(setA & setC)"
   ]
  },
  {
   "cell_type": "markdown",
   "metadata": {},
   "source": [
    "You can use the - operator the get the difference of two sets:"
   ]
  },
  {
   "cell_type": "code",
   "execution_count": 13,
   "metadata": {},
   "outputs": [
    {
     "name": "stdout",
     "output_type": "stream",
     "text": [
      "{8, 2, 4, 6}\n"
     ]
    }
   ],
   "source": [
    "print(setA - setC)"
   ]
  },
  {
   "cell_type": "markdown",
   "metadata": {},
   "source": [
    "## Set comprehension"
   ]
  },
  {
   "cell_type": "markdown",
   "metadata": {},
   "source": [
    "You can aply the same concepts used in list comprehension on sets. The example above is a nested comprehension"
   ]
  },
  {
   "cell_type": "code",
   "execution_count": 15,
   "metadata": {},
   "outputs": [
    {
     "name": "stdout",
     "output_type": "stream",
     "text": [
      "{('Olivia', 'Garcia'), ('Isabella', 'Johnson'), ('Isabella', 'Garcia'), ('Olivia', 'Johnson'), ('Ethan', 'Johnson'), ('Ethan', 'Garcia'), ('Olivia', 'Smith'), ('Ethan', 'Smith'), ('Isabella', 'Smith')}\n"
     ]
    }
   ],
   "source": [
    "names = ['Olivia', 'Ethan', 'Isabella']\n",
    "surnames = ['Smith', 'Johnson', 'Garcia']\n",
    "\n",
    "full_names = {(name, surname) for name in names for surname in surnames}\n",
    "print(full_names)"
   ]
  }
 ],
 "metadata": {
  "kernelspec": {
   "display_name": "Python 3",
   "language": "python",
   "name": "python3"
  },
  "language_info": {
   "codemirror_mode": {
    "name": "ipython",
    "version": 3
   },
   "file_extension": ".py",
   "mimetype": "text/x-python",
   "name": "python",
   "nbconvert_exporter": "python",
   "pygments_lexer": "ipython3",
   "version": "3.11.1"
  }
 },
 "nbformat": 4,
 "nbformat_minor": 2
}
