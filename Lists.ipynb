{
 "cells": [
  {
   "cell_type": "markdown",
   "metadata": {},
   "source": [
    "# Lists\n",
    "Lists are the most basic form of data structure in Python, it is:\n",
    "- Mutable. Elements can be changed at any time\n",
    "- Ordered. Every elements has a position in the list\n",
    "- Variable length. It can store as many elements as you need\n",
    "- Multi-element. Elements of different type can be stored in the same list.\n",
    "\n",
    "Documentation:\n",
    "https://docs.python.org/3/tutorial/datastructures.html"
   ]
  },
  {
   "cell_type": "markdown",
   "metadata": {},
   "source": [
    "## List definition and general access"
   ]
  },
  {
   "cell_type": "markdown",
   "metadata": {},
   "source": [
    "Square brackets [] indicate a list. They can store any type of element, including various types on the same list"
   ]
  },
  {
   "cell_type": "code",
   "execution_count": 4,
   "metadata": {},
   "outputs": [],
   "source": [
    "listA = [1,2,3]\n",
    "listB = ['a','b','c']\n",
    "listC = [\"cat\", \"dog\", \"parrot\"]\n",
    "listD = [1, 'b',\"cat\"]"
   ]
  },
  {
   "cell_type": "markdown",
   "metadata": {},
   "source": [
    "To access a elements we use its position. Positions start from 0 and end in (length - 1). We use the notation list[position]"
   ]
  },
  {
   "cell_type": "code",
   "execution_count": 6,
   "metadata": {},
   "outputs": [
    {
     "name": "stdout",
     "output_type": "stream",
     "text": [
      "1\n",
      "b\n",
      "parrot\n"
     ]
    }
   ],
   "source": [
    "print(listA[0])\n",
    "print(listB[1])\n",
    "print(listC[2])"
   ]
  },
  {
   "cell_type": "markdown",
   "metadata": {},
   "source": [
    "You can also access elements if you use negative positions, in which case -1 will represent the last element of the list, -2 the second last and so on."
   ]
  },
  {
   "cell_type": "code",
   "execution_count": 9,
   "metadata": {},
   "outputs": [
    {
     "name": "stdout",
     "output_type": "stream",
     "text": [
      "3\n",
      "2\n",
      "1\n"
     ]
    }
   ],
   "source": [
    "print(listA[-1])\n",
    "print(listA[-2])\n",
    "print(listA[-3])"
   ]
  },
  {
   "cell_type": "markdown",
   "metadata": {},
   "source": [
    "### len(list)\n",
    "The len() function returns the list's length"
   ]
  },
  {
   "cell_type": "code",
   "execution_count": 20,
   "metadata": {},
   "outputs": [
    {
     "name": "stdout",
     "output_type": "stream",
     "text": [
      "1\n",
      "2\n",
      "3\n",
      "4\n"
     ]
    }
   ],
   "source": [
    "listA = [1]\n",
    "listB = [1,2]\n",
    "listC = [1,2,3]\n",
    "listD = [1,2,3,4]\n",
    "listOfLists = [listA, listB, listC, listD]\n",
    "for list in listOfLists:\n",
    "    print(len(list))"
   ]
  },
  {
   "cell_type": "markdown",
   "metadata": {},
   "source": [
    "## Adding an element"
   ]
  },
  {
   "cell_type": "markdown",
   "metadata": {},
   "source": [
    "### list.append(x)\n",
    "The append() method adds an element into the last position of the list"
   ]
  },
  {
   "cell_type": "code",
   "execution_count": 3,
   "metadata": {},
   "outputs": [
    {
     "name": "stdout",
     "output_type": "stream",
     "text": [
      "['honda', 'yamaha', 'suzuki']\n",
      "['honda', 'yamaha', 'suzuki', 'ducati']\n"
     ]
    }
   ],
   "source": [
    "motorcycles = ['honda', 'yamaha', 'suzuki']\n",
    "print(motorcycles)\n",
    "motorcycles.append('ducati')\n",
    "print(motorcycles)"
   ]
  },
  {
   "cell_type": "markdown",
   "metadata": {},
   "source": [
    "### list.insert(i,x)\n",
    "The insert() method inserts an elements at the given position, if there is already an element it just pushes it forward."
   ]
  },
  {
   "cell_type": "code",
   "execution_count": 2,
   "metadata": {},
   "outputs": [
    {
     "name": "stdout",
     "output_type": "stream",
     "text": [
      "['honda', 'ducati', 'yamaha', 'suzuki']\n"
     ]
    }
   ],
   "source": [
    "motorcycles = ['honda', 'yamaha', 'suzuki']\n",
    "motorcycles.insert(1, 'ducati')\n",
    "print(motorcycles)"
   ]
  },
  {
   "cell_type": "markdown",
   "metadata": {},
   "source": [
    "## Deleting an element"
   ]
  },
  {
   "cell_type": "markdown",
   "metadata": {},
   "source": [
    "### del list[i]\n",
    "If you know the element's position you can delete by using the del statement"
   ]
  },
  {
   "cell_type": "code",
   "execution_count": 10,
   "metadata": {},
   "outputs": [
    {
     "name": "stdout",
     "output_type": "stream",
     "text": [
      "['m1', 'm3']\n"
     ]
    }
   ],
   "source": [
    "motorcycles = [\"m1\", \"m2\", \"m3\"]\n",
    "del motorcycles[1]\n",
    "print(motorcycles)"
   ]
  },
  {
   "cell_type": "markdown",
   "metadata": {},
   "source": [
    "### list.pop()\n",
    "The pop() method deletes the last element of a list. It also returns its value."
   ]
  },
  {
   "cell_type": "code",
   "execution_count": 12,
   "metadata": {},
   "outputs": [
    {
     "name": "stdout",
     "output_type": "stream",
     "text": [
      "['m1', 'm2']\n",
      "m3\n"
     ]
    }
   ],
   "source": [
    "motorcycles = [\"m1\", \"m2\", \"m3\"]\n",
    "popped = motorcycles.pop()\n",
    "print(motorcycles)\n",
    "print(popped)"
   ]
  },
  {
   "cell_type": "markdown",
   "metadata": {},
   "source": [
    "### list.remove(x)\n",
    "The remove() method removes the first element that is equal to the one in the argument"
   ]
  },
  {
   "cell_type": "code",
   "execution_count": 13,
   "metadata": {},
   "outputs": [
    {
     "name": "stdout",
     "output_type": "stream",
     "text": [
      "['m1', 'm3']\n"
     ]
    }
   ],
   "source": [
    "motorcycles = [\"m1\", \"m2\", \"m3\"]\n",
    "motorcycles.remove(\"m2\")\n",
    "print(motorcycles)"
   ]
  },
  {
   "cell_type": "markdown",
   "metadata": {},
   "source": [
    "## Organizing a list"
   ]
  },
  {
   "cell_type": "markdown",
   "metadata": {},
   "source": [
    "### list.sort()\n",
    "Orders the list in alphabetical order, directly modifies the list so it doesn't return anything"
   ]
  },
  {
   "cell_type": "code",
   "execution_count": 14,
   "metadata": {},
   "outputs": [
    {
     "name": "stdout",
     "output_type": "stream",
     "text": [
      "['Alex', 'Bea', 'Carol', 'Dean', 'Eduardo']\n"
     ]
    }
   ],
   "source": [
    "names = [\"Carol\", \"Dean\", \"Bea\", \"Alex\", \"Eduardo\"]\n",
    "names.sort()\n",
    "print(names)"
   ]
  },
  {
   "cell_type": "markdown",
   "metadata": {},
   "source": [
    "You can order it in reverse alphabet by adding the argument reverse = True"
   ]
  },
  {
   "cell_type": "code",
   "execution_count": 15,
   "metadata": {},
   "outputs": [
    {
     "name": "stdout",
     "output_type": "stream",
     "text": [
      "['Eduardo', 'Dean', 'Carol', 'Bea', 'Alex']\n"
     ]
    }
   ],
   "source": [
    "names = [\"Carol\", \"Dean\", \"Bea\", \"Alex\", \"Eduardo\"]\n",
    "names.sort(reverse = True)\n",
    "print(names)"
   ]
  },
  {
   "cell_type": "markdown",
   "metadata": {},
   "source": [
    "### sorted(list)\n",
    "The sorted() function return the sorted list, so it doesn't affect the original list"
   ]
  },
  {
   "cell_type": "code",
   "execution_count": 16,
   "metadata": {},
   "outputs": [
    {
     "name": "stdout",
     "output_type": "stream",
     "text": [
      "['Alex', 'Bea', 'Carol', 'Dean', 'Eduardo']\n",
      "['Carol', 'Dean', 'Bea', 'Alex', 'Eduardo']\n"
     ]
    }
   ],
   "source": [
    "names = [\"Carol\", \"Dean\", \"Bea\", \"Alex\", \"Eduardo\"]\n",
    "print(sorted(names))\n",
    "print(names)"
   ]
  },
  {
   "cell_type": "markdown",
   "metadata": {},
   "source": [
    "You can do it in reverse as well"
   ]
  },
  {
   "cell_type": "code",
   "execution_count": 18,
   "metadata": {},
   "outputs": [
    {
     "name": "stdout",
     "output_type": "stream",
     "text": [
      "['Eduardo', 'Dean', 'Carol', 'Bea', 'Alex']\n",
      "['Carol', 'Dean', 'Bea', 'Alex', 'Eduardo']\n"
     ]
    }
   ],
   "source": [
    "names = [\"Carol\", \"Dean\", \"Bea\", \"Alex\", \"Eduardo\"]\n",
    "print(sorted(names, reverse = True))\n",
    "print(names)"
   ]
  }
 ],
 "metadata": {
  "kernelspec": {
   "display_name": "Python 3",
   "language": "python",
   "name": "python3"
  },
  "language_info": {
   "codemirror_mode": {
    "name": "ipython",
    "version": 3
   },
   "file_extension": ".py",
   "mimetype": "text/x-python",
   "name": "python",
   "nbconvert_exporter": "python",
   "pygments_lexer": "ipython3",
   "version": "3.11.1"
  }
 },
 "nbformat": 4,
 "nbformat_minor": 2
}
